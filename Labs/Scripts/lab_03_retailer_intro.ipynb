{
  "cells": [
    {
      "cell_type": "markdown",
      "metadata": {
        "id": "vFqs-2jlszxH"
      },
      "source": [
        "# IS 4487 Lab 3\n",
        "\n",
        "## Outline\n",
        "\n",
        "Repeat exercises from Lab 2, but with the *SuperStore Retail Orders* dataset\n",
        "- Loading installed packages\n",
        "- Inspect data\n",
        "- Explore plot types\n",
        "\n",
        "<a href=\"https://colab.research.google.com/github/Stan-Pugsley/is_4487_base/blob/main/Labs/Scripts/lab_03_retailer_intro.ipynb\" target=\"_parent\"><img src=\"https://colab.research.google.com/assets/colab-badge.svg\" alt=\"Open In Colab\"/></a>"
      ]
    },
    {
      "cell_type": "markdown",
      "metadata": {
        "id": "d_OOFOuDszxI"
      },
      "source": [
        "## Superstore Data Dictionary\n",
        "\n",
        " ORDER VARIABLES:\n",
        " - Order ID\n",
        " - Order Date\n",
        " - Order Year Month - Year and month of the order\n",
        " - Order Type - Was the order completed at a store or online? (Retail, Online)\n",
        " - Quantity - Quantity ordered for the product\n",
        "\n",
        " CUSTOMER VARIABLES:\n",
        " - Customer Name\n",
        " - City\n",
        " - State Province\n",
        " - Email\n",
        "\n",
        "PRODUCT VARIABLES:\n",
        " - Product Name\n",
        " - Product Line - Category of the product (i.e. Bikes Phones)\n",
        " - Product Price - Price in US Dollars\n",
        " - Product Status - Current status of the product (Active, Inactive)"
      ]
    },
    {
      "cell_type": "markdown",
      "metadata": {
        "id": "0xJlel1-szxI"
      },
      "source": [
        "## Load Libraries\n",
        "\n",
        "➡️ Assignment Tasks\n",
        "- Load any necessary libraries"
      ]
    },
    {
      "cell_type": "code",
      "execution_count": 1,
      "metadata": {
        "vscode": {
          "languageId": "plaintext"
        },
        "id": "E5waESG2szxJ"
      },
      "outputs": [],
      "source": [
        "import pandas as pd\n",
        "import numpy as np\n",
        "import matplotlib.pyplot as plt\n",
        "import seaborn as sns\n"
      ]
    },
    {
      "cell_type": "markdown",
      "metadata": {
        "id": "swryg8kxszxJ"
      },
      "source": [
        "## Import Data into Dataframe\n",
        "\n",
        "➡️ Assignment Tasks\n",
        "- Import data from the SuperStore retail dataset into a dataframe (in GitHub go to Labs > DataSets)\n",
        "- Describe or profile the dataframe"
      ]
    },
    {
      "cell_type": "code",
      "execution_count": 3,
      "metadata": {
        "vscode": {
          "languageId": "plaintext"
        },
        "colab": {
          "base_uri": "https://localhost:8080/"
        },
        "id": "g-h02DZgszxJ",
        "outputId": "0bdff08c-16a1-4cfc-dab4-e035c9e979f5"
      },
      "outputs": [
        {
          "output_type": "stream",
          "name": "stdout",
          "text": [
            "   order_id  order_date order_year_month  customer_name               city  \\\n",
            "0     51188  2023-07-01          2023-07  Audrey Blanco  North Cherylmouth   \n",
            "1     51187  2023-07-01          2023-07    Isaac Allen         Traceyland   \n",
            "2     51199  2023-07-02          2023-07     Ian Morgan          Dylanberg   \n",
            "3     51241  2023-07-04          2023-07     Alexa Bell     Lake Tracytown   \n",
            "4     51297  2023-07-08          2023-07     Casey Diaz        Byrdchester   \n",
            "\n",
            "  state_province                    email order_type  quantity  \\\n",
            "0  New Hampshire  audrey_blanco@email.com     Retail       3.0   \n",
            "1  West Virginia    isaac_allen@email.com     Online       4.0   \n",
            "2   South Dakota     ian_morgan@email.com     Online       5.0   \n",
            "3      Wisconsin     alexa_bell@email.com     Online       1.0   \n",
            "4    Mississippi     casey_diaz@email.com     Online       1.0   \n",
            "\n",
            "                                        product_name product_line  \\\n",
            "0  Apple iPhone XR (Yellow, 256 GB) (Includes Ear...       Mobile   \n",
            "1  Apple iPhone XR (Yellow, 256 GB) (Includes Ear...       Mobile   \n",
            "2  Apple iPhone XR (Yellow, 256 GB) (Includes Ear...       Mobile   \n",
            "3  Apple iPhone XR (Yellow, 256 GB) (Includes Ear...       Mobile   \n",
            "4  Apple iPhone XR (Yellow, 256 GB) (Includes Ear...       Mobile   \n",
            "\n",
            "   product_price product_status  \n",
            "0         649.99         Active  \n",
            "1         649.99         Active  \n",
            "2         649.99         Active  \n",
            "3         649.99         Active  \n",
            "4         649.99         Active  \n",
            "<class 'pandas.core.frame.DataFrame'>\n",
            "RangeIndex: 56043 entries, 0 to 56042\n",
            "Data columns (total 13 columns):\n",
            " #   Column            Non-Null Count  Dtype  \n",
            "---  ------            --------------  -----  \n",
            " 0   order_id          56043 non-null  int64  \n",
            " 1   order_date        56011 non-null  object \n",
            " 2   order_year_month  56011 non-null  object \n",
            " 3   customer_name     56043 non-null  object \n",
            " 4   city              55569 non-null  object \n",
            " 5   state_province    55569 non-null  object \n",
            " 6   email             56043 non-null  object \n",
            " 7   order_type        56043 non-null  object \n",
            " 8   quantity          56004 non-null  float64\n",
            " 9   product_name      56043 non-null  object \n",
            " 10  product_line      56043 non-null  object \n",
            " 11  product_price     56043 non-null  float64\n",
            " 12  product_status    56043 non-null  object \n",
            "dtypes: float64(2), int64(1), object(10)\n",
            "memory usage: 5.6+ MB\n",
            "None\n",
            "           order_id       quantity  product_price\n",
            "count  56043.000000   56004.000000   56043.000000\n",
            "mean   61668.410578       3.348582    6198.309433\n",
            "std     7508.142486     422.654112   35784.965255\n",
            "min    45079.000000       1.000000       2.290000\n",
            "25%    55644.500000       1.000000       7.950000\n",
            "50%    61870.000000       1.000000     475.600000\n",
            "75%    68097.000000       2.000000     914.620000\n",
            "max    74147.000000  100000.000000  235481.000000\n"
          ]
        }
      ],
      "source": [
        "url = 'https://github.com/Stan-Pugsley/is_4487_base/blob/main/Labs/DataSets/superstore_retail_orders.csv?raw=true'\n",
        "df = pd.read_csv(url, on_bad_lines='skip')\n",
        "print(df.head())\n",
        "print(df.info())\n",
        "print(df.describe())"
      ]
    },
    {
      "cell_type": "markdown",
      "metadata": {
        "id": "nbKldQpPszxJ"
      },
      "source": [
        "## Prepare Data\n",
        "\n",
        "➡️ Assignment Tasks\n",
        "- Create a \"revenue\" variable and make sure it is a numeric datatype\n",
        "- Remove rows with empty (NULL) values\n",
        "- Locate outliers in at least two of the variables.   Filter them out if they are mistakes; keep them if they are exceptional cases."
      ]
    },
    {
      "cell_type": "code",
      "source": [
        "# Create the 'revenue' variable by multiplying 'quantity' and 'product_price'\n",
        "df['revenue'] = df['quantity'] * df['product_price']\n",
        "\n",
        "# Ensure 'revenue' is numeric\n",
        "df['revenue'] = pd.to_numeric(df['revenue'], errors='coerce')\n",
        "\n",
        "# Verify the new column\n",
        "print(df[['quantity', 'product_price', 'revenue']].head())\n",
        "print(\"Data type of 'revenue':\", df['revenue'].dtype)\n"
      ],
      "metadata": {
        "colab": {
          "base_uri": "https://localhost:8080/"
        },
        "id": "35xkWAIxubx1",
        "outputId": "12d1eb9c-49be-4623-da61-fe2e4f6083be"
      },
      "execution_count": 10,
      "outputs": [
        {
          "output_type": "stream",
          "name": "stdout",
          "text": [
            "   quantity  product_price  revenue\n",
            "0       3.0         649.99  1949.97\n",
            "1       4.0         649.99  2599.96\n",
            "2       5.0         649.99  3249.95\n",
            "3       1.0         649.99   649.99\n",
            "4       1.0         649.99   649.99\n",
            "Data type of 'revenue': float64\n"
          ]
        }
      ]
    },
    {
      "cell_type": "code",
      "source": [
        "# Remove rows with NULL values\n",
        "df = df.dropna()\n",
        "\n",
        "# Verify there are no NULL values left\n",
        "print(\"Number of NULL values after dropping rows:\")\n",
        "print(df.isnull().sum())\n",
        "\n",
        "# Display the shape of the cleaned dataset\n",
        "print(f\"Shape of the dataset after removing NULL values: {df.shape}\")\n"
      ],
      "metadata": {
        "colab": {
          "base_uri": "https://localhost:8080/"
        },
        "id": "whnHEnI8ukW9",
        "outputId": "2cf0b9e3-5782-4ac3-f0e8-b4f4eda1adda"
      },
      "execution_count": 11,
      "outputs": [
        {
          "output_type": "stream",
          "name": "stdout",
          "text": [
            "Number of NULL values after dropping rows:\n",
            "order_id            0\n",
            "order_date          0\n",
            "order_year_month    0\n",
            "customer_name       0\n",
            "city                0\n",
            "state_province      0\n",
            "email               0\n",
            "order_type          0\n",
            "quantity            0\n",
            "product_name        0\n",
            "product_line        0\n",
            "product_price       0\n",
            "product_status      0\n",
            "revenue             0\n",
            "dtype: int64\n",
            "Shape of the dataset after removing NULL values: (55498, 14)\n"
          ]
        }
      ]
    },
    {
      "cell_type": "code",
      "execution_count": 15,
      "metadata": {
        "vscode": {
          "languageId": "plaintext"
        },
        "colab": {
          "base_uri": "https://localhost:8080/"
        },
        "id": "Hs2tukvhszxK",
        "outputId": "eb1fc613-33b5-4e5a-be0d-899a1ae64d4c"
      },
      "outputs": [
        {
          "output_type": "stream",
          "name": "stdout",
          "text": [
            "Outliers in Quantity:\n",
            "       order_id  order_date order_year_month     customer_name  \\\n",
            "1         51187  2023-07-01          2023-07       Isaac Allen   \n",
            "2         51199  2023-07-02          2023-07        Ian Morgan   \n",
            "33727     66374  2024-03-18          2024-03     David Jenkins   \n",
            "33822     66829  2024-03-25          2024-03     Destiny Smith   \n",
            "44626     45087  2022-01-03          2022-01     Joseph Martin   \n",
            "45530     45086  2022-01-02          2022-01    Jacquelyn Diaz   \n",
            "45752     45706  2022-03-20          2022-03        David Diaz   \n",
            "45857     45085  2022-01-02          2022-01  Reginald Alvarez   \n",
            "55308     66470  2024-03-19          2024-03         Lisa Wang   \n",
            "\n",
            "                    city state_province                       email  \\\n",
            "1             Traceyland  West Virginia       isaac_allen@email.com   \n",
            "2              Dylanberg   South Dakota        ian_morgan@email.com   \n",
            "33727     Port Christina          Idaho     david_jenkins@email.com   \n",
            "33822  New Hannahborough        Indiana     destiny_smith@email.com   \n",
            "44626      Rogersborough         Nevada     joseph_martin@email.com   \n",
            "45530     Whitneyborough  West Virginia    jacquelyn_diaz@email.com   \n",
            "45752    New Christopher         Hawaii        david_diaz@email.com   \n",
            "45857     Lake Kellyland     Washington  reginald_alvarez@email.com   \n",
            "55308      Baileychester   South Dakota         lisa_wang@email.com   \n",
            "\n",
            "      order_type  quantity                                       product_name  \\\n",
            "1         Online       4.0  Apple iPhone XR (Yellow, 256 GB) (Includes Ear...   \n",
            "2         Online       5.0  Apple iPhone XR (Yellow, 256 GB) (Includes Ear...   \n",
            "33727     Retail     200.0                              Water Bottle - 30 oz.   \n",
            "33822     Online  100000.0                              Water Bottle - 30 oz.   \n",
            "44626     Retail     600.0                                Projector Black, 44   \n",
            "45530     Retail     100.0                                      Gaming Laptop   \n",
            "45752     Retail      20.0                                Gaming Laptop Matte   \n",
            "45857     Retail     500.0                               Gaming Laptop Silver   \n",
            "55308     Retail    2000.0  Samsung Galaxy S20 FE 5G (Cloud Navy, 8GB RAM,...   \n",
            "\n",
            "      product_line  product_price product_status     revenue  \n",
            "1           Mobile         649.99         Active     2599.96  \n",
            "2           Mobile         649.99         Active     3249.95  \n",
            "33727  Accessories           4.99         Active      998.00  \n",
            "33822  Accessories           4.99         Active   499000.00  \n",
            "44626    Projector        3374.99         Active  2024994.00  \n",
            "45530       Laptop        3578.27         Active   357827.00  \n",
            "45752       Laptop        3578.27         Active    71565.40  \n",
            "45857       Laptop        3578.27         Active  1789135.00  \n",
            "55308  Electronics         914.62         Active  1829240.00  \n",
            "Outliers in Product Price:\n",
            "       order_id  order_date order_year_month     customer_name  \\\n",
            "1342      51487  2023-07-20          2023-07     Hailey Barnes   \n",
            "1343      51551  2023-07-24          2023-07       Ramon Huang   \n",
            "1344      52625  2023-08-16          2023-08  George Louverdis   \n",
            "1345      52997  2023-08-23          2023-08     Amber Collins   \n",
            "1346      53820  2023-09-04          2023-09       Dylan Davis   \n",
            "...         ...         ...              ...               ...   \n",
            "46337     46576  2022-06-27          2022-06        Alisha She   \n",
            "46338     46583  2022-06-27          2022-06     Jerome Suarez   \n",
            "46339     46580  2022-06-27          2022-06      Ruben Subram   \n",
            "46340     46591  2022-06-29          2022-06   Samantha Taylor   \n",
            "46341     46599  2022-06-30          2022-06     Sierra Parker   \n",
            "\n",
            "                 city state_province                       email order_type  \\\n",
            "1342      Baileyburgh         Kansas     hailey_barnes@email.com     Online   \n",
            "1343     Jenniferbury       Michigan       ramon_huang@email.com     Online   \n",
            "1344    Mccormickside  Massachusetts  george_louverdis@email.com     Online   \n",
            "1345         Taratown        Georgia     amber_collins@email.com     Online   \n",
            "1346        Andrewton       Kentucky       dylan_davis@email.com     Retail   \n",
            "...               ...            ...                         ...        ...   \n",
            "46337     North Tammy        Wyoming        alisha_she@email.com     Retail   \n",
            "46338    East Michael       Oklahoma     jerome_suarez@email.com     Retail   \n",
            "46339        Hillport       Kentucky      ruben_subram@email.com     Retail   \n",
            "46340  Salt Lake City           Utah   samantha_taylor@email.com     Retail   \n",
            "46341       Adamsfort       Oklahoma     sierra_parker@email.com     Retail   \n",
            "\n",
            "       quantity         product_name product_line  product_price  \\\n",
            "1342        1.0           Sony a7 IV      Cameras        2498.00   \n",
            "1343        1.0           Sony a7 IV      Cameras        2498.00   \n",
            "1344        1.0           Sony a7 IV      Cameras        2498.00   \n",
            "1345        1.0           Sony a7 IV      Cameras        2498.00   \n",
            "1346        1.0           Sony a7 IV      Cameras        2498.00   \n",
            "...         ...                  ...          ...            ...   \n",
            "46337       1.0  Gaming Laptop Black       Laptop        3578.27   \n",
            "46338       1.0  Gaming Laptop Black       Laptop        3578.27   \n",
            "46339       1.0  Gaming Laptop Black       Laptop        3578.27   \n",
            "46340       1.0  Gaming Laptop Black       Laptop        3578.27   \n",
            "46341       1.0  Gaming Laptop Black       Laptop        3578.27   \n",
            "\n",
            "      product_status  revenue  \n",
            "1342          Active  2498.00  \n",
            "1343          Active  2498.00  \n",
            "1344          Active  2498.00  \n",
            "1345          Active  2498.00  \n",
            "1346          Active  2498.00  \n",
            "...              ...      ...  \n",
            "46337         Active  3578.27  \n",
            "46338         Active  3578.27  \n",
            "46339         Active  3578.27  \n",
            "46340         Active  3578.27  \n",
            "46341         Active  3578.27  \n",
            "\n",
            "[4044 rows x 14 columns]\n",
            "Cleaned Dataset Shape: (51449, 14)\n",
            "Exceptional Cases (Kept for Review):\n",
            "       order_id  order_date order_year_month     customer_name  \\\n",
            "1         51187  2023-07-01          2023-07       Isaac Allen   \n",
            "2         51199  2023-07-02          2023-07        Ian Morgan   \n",
            "1342      51487  2023-07-20          2023-07     Hailey Barnes   \n",
            "1343      51551  2023-07-24          2023-07       Ramon Huang   \n",
            "1344      52625  2023-08-16          2023-08  George Louverdis   \n",
            "...         ...         ...              ...               ...   \n",
            "46338     46583  2022-06-27          2022-06     Jerome Suarez   \n",
            "46339     46580  2022-06-27          2022-06      Ruben Subram   \n",
            "46340     46591  2022-06-29          2022-06   Samantha Taylor   \n",
            "46341     46599  2022-06-30          2022-06     Sierra Parker   \n",
            "55308     66470  2024-03-19          2024-03         Lisa Wang   \n",
            "\n",
            "                 city state_province                       email order_type  \\\n",
            "1          Traceyland  West Virginia       isaac_allen@email.com     Online   \n",
            "2           Dylanberg   South Dakota        ian_morgan@email.com     Online   \n",
            "1342      Baileyburgh         Kansas     hailey_barnes@email.com     Online   \n",
            "1343     Jenniferbury       Michigan       ramon_huang@email.com     Online   \n",
            "1344    Mccormickside  Massachusetts  george_louverdis@email.com     Online   \n",
            "...               ...            ...                         ...        ...   \n",
            "46338    East Michael       Oklahoma     jerome_suarez@email.com     Retail   \n",
            "46339        Hillport       Kentucky      ruben_subram@email.com     Retail   \n",
            "46340  Salt Lake City           Utah   samantha_taylor@email.com     Retail   \n",
            "46341       Adamsfort       Oklahoma     sierra_parker@email.com     Retail   \n",
            "55308   Baileychester   South Dakota         lisa_wang@email.com     Retail   \n",
            "\n",
            "       quantity                                       product_name  \\\n",
            "1           4.0  Apple iPhone XR (Yellow, 256 GB) (Includes Ear...   \n",
            "2           5.0  Apple iPhone XR (Yellow, 256 GB) (Includes Ear...   \n",
            "1342        1.0                                         Sony a7 IV   \n",
            "1343        1.0                                         Sony a7 IV   \n",
            "1344        1.0                                         Sony a7 IV   \n",
            "...         ...                                                ...   \n",
            "46338       1.0                                Gaming Laptop Black   \n",
            "46339       1.0                                Gaming Laptop Black   \n",
            "46340       1.0                                Gaming Laptop Black   \n",
            "46341       1.0                                Gaming Laptop Black   \n",
            "55308    2000.0  Samsung Galaxy S20 FE 5G (Cloud Navy, 8GB RAM,...   \n",
            "\n",
            "      product_line  product_price product_status     revenue  \n",
            "1           Mobile         649.99         Active     2599.96  \n",
            "2           Mobile         649.99         Active     3249.95  \n",
            "1342       Cameras        2498.00         Active     2498.00  \n",
            "1343       Cameras        2498.00         Active     2498.00  \n",
            "1344       Cameras        2498.00         Active     2498.00  \n",
            "...            ...            ...            ...         ...  \n",
            "46338       Laptop        3578.27         Active     3578.27  \n",
            "46339       Laptop        3578.27         Active     3578.27  \n",
            "46340       Laptop        3578.27         Active     3578.27  \n",
            "46341       Laptop        3578.27         Active     3578.27  \n",
            "55308  Electronics         914.62         Active  1829240.00  \n",
            "\n",
            "[4049 rows x 14 columns]\n"
          ]
        }
      ],
      "source": [
        "# Function to detect outliers using IQR\n",
        "def detect_outliers_iqr(data, column):\n",
        "    Q1 = data[column].quantile(0.25)  # First quartile (25th percentile)\n",
        "    Q3 = data[column].quantile(0.75)  # Third quartile (75th percentile)\n",
        "    IQR = Q3 - Q1  # Interquartile Range\n",
        "    lower_bound = Q1 - 1.5 * IQR  # Lower bound for outliers\n",
        "    upper_bound = Q3 + 1.5 * IQR  # Upper bound for outliers\n",
        "    return data[(data[column] < lower_bound) | (data[column] > upper_bound)], lower_bound, upper_bound\n",
        "\n",
        "# Detect and print outliers for 'quantity'\n",
        "outliers_quantity, lower_quantity, upper_quantity = detect_outliers_iqr(df, 'quantity')\n",
        "print(\"Outliers in Quantity:\")\n",
        "print(outliers_quantity)\n",
        "\n",
        "# Detect and print outliers for 'product_price'\n",
        "outliers_price, lower_price, upper_price = detect_outliers_iqr(df, 'product_price')\n",
        "print(\"Outliers in Product Price:\")\n",
        "print(outliers_price)\n",
        "\n",
        "# Filter out mistakes (optional based on domain knowledge)\n",
        "df_cleaned = df[\n",
        "    (df['quantity'] >= lower_quantity) & (df['quantity'] <= upper_quantity) &\n",
        "    (df['product_price'] >= lower_price) & (df['product_price'] <= upper_price)\n",
        "]\n",
        "\n",
        "# Keep exceptional cases separately for review\n",
        "exceptional_cases = df[\n",
        "    (df['quantity'] > upper_quantity) |\n",
        "    (df['product_price'] > upper_price)\n",
        "]\n",
        "\n",
        "print(f\"Cleaned Dataset Shape: {df_cleaned.shape}\")\n",
        "print(\"Exceptional Cases (Kept for Review):\")\n",
        "print(exceptional_cases)\n"
      ]
    },
    {
      "cell_type": "markdown",
      "metadata": {
        "id": "4M3kH6wIszxK"
      },
      "source": [
        "## Summarize Data\n",
        "\n",
        "➡️ Assignment Tasks\n",
        "- Display the average price per product line\n",
        "- Display the total revenue for all months"
      ]
    },
    {
      "cell_type": "code",
      "execution_count": 12,
      "metadata": {
        "vscode": {
          "languageId": "plaintext"
        },
        "colab": {
          "base_uri": "https://localhost:8080/"
        },
        "id": "OJRN_rEzszxK",
        "outputId": "208371ac-547d-408c-887c-0fa68f981624"
      },
      "outputs": [
        {
          "output_type": "stream",
          "name": "stdout",
          "text": [
            "Average Price per Product Line:\n",
            "product_line\n",
            "Accessories          11.531647\n",
            "Bikes              1821.807035\n",
            "Cameras             779.174673\n",
            "Clothing          48943.949314\n",
            "Electronics         693.973186\n",
            "Laptop             3578.270000\n",
            "Mobile             1013.581162\n",
            "OfficeProducts        8.640000\n",
            "Projector          3386.564074\n",
            "Name: product_price, dtype: float64\n"
          ]
        }
      ],
      "source": [
        "#average price\n",
        "# Group by 'product_line' and calculate the average price\n",
        "average_price_per_product_line = df.groupby('product_line')['product_price'].mean()\n",
        "\n",
        "# Display the result\n",
        "print(\"Average Price per Product Line:\")\n",
        "print(average_price_per_product_line)\n"
      ]
    },
    {
      "cell_type": "code",
      "execution_count": 13,
      "metadata": {
        "vscode": {
          "languageId": "plaintext"
        },
        "colab": {
          "base_uri": "https://localhost:8080/"
        },
        "id": "nAgZDSc9szxK",
        "outputId": "502cb38a-f25e-4874-8cda-001f7bd1c72c"
      },
      "outputs": [
        {
          "output_type": "stream",
          "name": "stdout",
          "text": [
            "Total Revenue for All Months:\n",
            "order_year_month\n",
            "1922-06      979636.00\n",
            "2022-01     4746737.16\n",
            "2022-02      500428.41\n",
            "2022-03      708048.28\n",
            "2022-04      653364.08\n",
            "2022-05      659325.94\n",
            "2022-06      637784.29\n",
            "2022-07      486114.93\n",
            "2022-08      533572.11\n",
            "2022-09      341266.49\n",
            "2022-10      404276.65\n",
            "2022-11      306453.60\n",
            "2022-12      560965.27\n",
            "2023-01      432425.86\n",
            "2023-02      459752.28\n",
            "2023-03      469912.92\n",
            "2023-04      492886.16\n",
            "2023-05      539365.40\n",
            "2023-06      529704.69\n",
            "2023-07    10495300.14\n",
            "2023-08    47232524.31\n",
            "2023-09    50614963.75\n",
            "2023-10    53117217.85\n",
            "2023-11    50196883.14\n",
            "2023-12    59182870.87\n",
            "2024-01    57744443.81\n",
            "2024-02    57700422.24\n",
            "2024-03    57460241.29\n",
            "2024-04    63213208.20\n",
            "2024-05    73469869.94\n",
            "2024-06    67964592.02\n",
            "2029-06          19.55\n",
            "2029-07      517505.48\n",
            "2029-08          39.94\n",
            "2421-09       32051.29\n",
            "Name: revenue, dtype: float64\n"
          ]
        }
      ],
      "source": [
        "#total revenue\n",
        "# Ensure the revenue column exists\n",
        "if 'revenue' not in df.columns:\n",
        "    df['revenue'] = df['quantity'] * df['product_price']\n",
        "\n",
        "# Group by 'order_year_month' and calculate the total revenue\n",
        "total_revenue_per_month = df.groupby('order_year_month')['revenue'].sum()\n",
        "\n",
        "# Display the result\n",
        "print(\"Total Revenue for All Months:\")\n",
        "print(total_revenue_per_month)\n"
      ]
    }
  ],
  "metadata": {
    "language_info": {
      "name": "python"
    },
    "colab": {
      "provenance": []
    },
    "kernelspec": {
      "name": "python3",
      "display_name": "Python 3"
    }
  },
  "nbformat": 4,
  "nbformat_minor": 0
}