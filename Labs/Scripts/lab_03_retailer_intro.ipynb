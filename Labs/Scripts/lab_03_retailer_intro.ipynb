{
  "cells": [
    {
      "cell_type": "markdown",
      "metadata": {
        "id": "Adtd0cVuCreB"
      },
      "source": [
        "# IS 4487 Lab 3\n",
        "\n",
        "## Outline\n",
        "\n",
        "Repeat exercises from Lab 2, but with the *SuperStore Retail Orders* dataset\n",
        "- Loading installed packages\n",
        "- Inspect data\n",
        "- Explore plot types\n",
        "\n",
        "<a href=\"https://colab.research.google.com/github/Stan-Pugsley/is_4487_base/blob/main/Labs/Scripts/lab_03_retailer_intro.ipynb\" target=\"_parent\"><img src=\"https://colab.research.google.com/assets/colab-badge.svg\" alt=\"Open In Colab\"/></a>"
      ]
    },
    {
      "cell_type": "markdown",
      "metadata": {
        "id": "sSmmSC_xCreE"
      },
      "source": [
        "## Superstore Data Dictionary\n",
        "\n",
        " ORDER VARIABLES:\n",
        " - Order ID\n",
        " - Order Date\n",
        " - Order Year Month - Year and month of the order\n",
        " - Order Type - Was the order completed at a store or online? (Retail, Online)\n",
        " - Quantity - Quantity ordered for the product\n",
        "\n",
        " CUSTOMER VARIABLES:\n",
        " - Customer Name\n",
        " - City\n",
        " - State Province\n",
        " - Email\n",
        "\n",
        "PRODUCT VARIABLES:\n",
        " - Product Name\n",
        " - Product Line - Category of the product (i.e. Bikes Phones)\n",
        " - Product Price - Price in US Dollars\n",
        " - Product Status - Current status of the product (Active, Inactive)"
      ]
    },
    {
      "cell_type": "markdown",
      "metadata": {
        "id": "BMKUIJzUCreE"
      },
      "source": [
        "## Load Libraries\n",
        "\n",
        "➡️ Assignment Tasks\n",
        "- Load any necessary libraries"
      ]
    },
    {
      "cell_type": "code",
      "execution_count": 1,
      "metadata": {
        "vscode": {
          "languageId": "plaintext"
        },
        "id": "Bbysm5CNCreF"
      },
      "outputs": [],
      "source": [
        "import pandas as pd\n",
        "import numpy as np\n",
        "import matplotlib.pyplot as plt\n",
        "import seaborn as sns"
      ]
    },
    {
      "cell_type": "markdown",
      "metadata": {
        "id": "DbQr1RcDCreF"
      },
      "source": [
        "## Import Data into Dataframe\n",
        "\n",
        "➡️ Assignment Tasks\n",
        "- Import data from the SuperStore retail dataset into a dataframe (in GitHub go to Labs > DataSets)\n",
        "- Describe or profile the dataframe"
      ]
    },
    {
      "cell_type": "code",
      "execution_count": 9,
      "metadata": {
        "vscode": {
          "languageId": "plaintext"
        },
        "id": "906EIIABCreF",
        "outputId": "58092364-ba78-4753-ba26-ebee64035a5f",
        "colab": {
          "base_uri": "https://localhost:8080/"
        }
      },
      "outputs": [
        {
          "output_type": "stream",
          "name": "stdout",
          "text": [
            "   order_id  order_date order_year_month  customer_name               city  \\\n",
            "0     51188  2023-07-01          2023-07  Audrey Blanco  North Cherylmouth   \n",
            "1     51187  2023-07-01          2023-07    Isaac Allen         Traceyland   \n",
            "2     51199  2023-07-02          2023-07     Ian Morgan          Dylanberg   \n",
            "3     51241  2023-07-04          2023-07     Alexa Bell     Lake Tracytown   \n",
            "4     51297  2023-07-08          2023-07     Casey Diaz        Byrdchester   \n",
            "\n",
            "  state_province                    email order_type  quantity  \\\n",
            "0  New Hampshire  audrey_blanco@email.com     Retail       3.0   \n",
            "1  West Virginia    isaac_allen@email.com     Online       4.0   \n",
            "2   South Dakota     ian_morgan@email.com     Online       5.0   \n",
            "3      Wisconsin     alexa_bell@email.com     Online       1.0   \n",
            "4    Mississippi     casey_diaz@email.com     Online       1.0   \n",
            "\n",
            "                                        product_name product_line  \\\n",
            "0  Apple iPhone XR (Yellow, 256 GB) (Includes Ear...       Mobile   \n",
            "1  Apple iPhone XR (Yellow, 256 GB) (Includes Ear...       Mobile   \n",
            "2  Apple iPhone XR (Yellow, 256 GB) (Includes Ear...       Mobile   \n",
            "3  Apple iPhone XR (Yellow, 256 GB) (Includes Ear...       Mobile   \n",
            "4  Apple iPhone XR (Yellow, 256 GB) (Includes Ear...       Mobile   \n",
            "\n",
            "   product_price product_status  \n",
            "0         649.99         Active  \n",
            "1         649.99         Active  \n",
            "2         649.99         Active  \n",
            "3         649.99         Active  \n",
            "4         649.99         Active  \n",
            "<class 'pandas.core.frame.DataFrame'>\n",
            "RangeIndex: 56043 entries, 0 to 56042\n",
            "Data columns (total 13 columns):\n",
            " #   Column            Non-Null Count  Dtype  \n",
            "---  ------            --------------  -----  \n",
            " 0   order_id          56043 non-null  int64  \n",
            " 1   order_date        56011 non-null  object \n",
            " 2   order_year_month  56011 non-null  object \n",
            " 3   customer_name     56043 non-null  object \n",
            " 4   city              55569 non-null  object \n",
            " 5   state_province    55569 non-null  object \n",
            " 6   email             56043 non-null  object \n",
            " 7   order_type        56043 non-null  object \n",
            " 8   quantity          56004 non-null  float64\n",
            " 9   product_name      56043 non-null  object \n",
            " 10  product_line      56043 non-null  object \n",
            " 11  product_price     56043 non-null  float64\n",
            " 12  product_status    56043 non-null  object \n",
            "dtypes: float64(2), int64(1), object(10)\n",
            "memory usage: 5.6+ MB\n",
            "None\n",
            "           order_id       quantity  product_price\n",
            "count  56043.000000   56004.000000   56043.000000\n",
            "mean   61668.410578       3.348582    6198.309433\n",
            "std     7508.142486     422.654112   35784.965255\n",
            "min    45079.000000       1.000000       2.290000\n",
            "25%    55644.500000       1.000000       7.950000\n",
            "50%    61870.000000       1.000000     475.600000\n",
            "75%    68097.000000       2.000000     914.620000\n",
            "max    74147.000000  100000.000000  235481.000000\n"
          ]
        }
      ],
      "source": [
        "url = 'https://github.com/Stan-Pugsley/is_4487_base/blob/main/Labs/DataSets/superstore_retail_orders.csv?raw=true'\n",
        "df = pd.read_csv(url, on_bad_lines='skip')\n",
        "\n",
        "print (df.head())\n",
        "print (df.info())\n",
        "print (df.describe())"
      ]
    },
    {
      "cell_type": "markdown",
      "metadata": {
        "id": "J0RPyzfHCreF"
      },
      "source": [
        "## Prepare Data\n",
        "\n",
        "➡️ Assignment Tasks\n",
        "- Create a \"revenue\" variable and make sure it is a numeric datatype\n",
        "- Remove rows with empty (NULL) values\n",
        "- Locate outliers in at least two of the variables.   Filter them out if they are mistakes; keep them if they are exceptional cases."
      ]
    },
    {
      "cell_type": "code",
      "execution_count": 11,
      "metadata": {
        "vscode": {
          "languageId": "plaintext"
        },
        "id": "oRT01qO1CreG",
        "outputId": "89db7f0c-be12-4d96-da85-24760283c3b0",
        "colab": {
          "base_uri": "https://localhost:8080/"
        }
      },
      "outputs": [
        {
          "output_type": "stream",
          "name": "stdout",
          "text": [
            "<class 'pandas.core.frame.DataFrame'>\n",
            "RangeIndex: 56043 entries, 0 to 56042\n",
            "Data columns (total 14 columns):\n",
            " #   Column            Non-Null Count  Dtype  \n",
            "---  ------            --------------  -----  \n",
            " 0   order_id          56043 non-null  int64  \n",
            " 1   order_date        56011 non-null  object \n",
            " 2   order_year_month  56011 non-null  object \n",
            " 3   customer_name     56043 non-null  object \n",
            " 4   city              55569 non-null  object \n",
            " 5   state_province    55569 non-null  object \n",
            " 6   email             56043 non-null  object \n",
            " 7   order_type        56043 non-null  object \n",
            " 8   quantity          56004 non-null  float64\n",
            " 9   product_name      56043 non-null  object \n",
            " 10  product_line      56043 non-null  object \n",
            " 11  product_price     56043 non-null  float64\n",
            " 12  product_status    56043 non-null  object \n",
            " 13  revenue           56004 non-null  float64\n",
            "dtypes: float64(3), int64(1), object(10)\n",
            "memory usage: 6.0+ MB\n"
          ]
        }
      ],
      "source": [
        "df['revenue'] = df['quantity'] * df['product_price']\n",
        "df['revenue'] = pd.to_numeric(df['revenue'])\n",
        "df.info()"
      ]
    },
    {
      "cell_type": "code",
      "source": [
        "df.dropna()\n",
        "df.info()\n",
        "\n",
        "print(\"Number of NULL values after dropping rows:\")\n",
        "print(df.isnull().sum())"
      ],
      "metadata": {
        "id": "JrcrNjzDLf5T",
        "outputId": "6638b7ce-dd3b-472f-dadb-14744395a762",
        "colab": {
          "base_uri": "https://localhost:8080/"
        }
      },
      "execution_count": 14,
      "outputs": [
        {
          "output_type": "stream",
          "name": "stdout",
          "text": [
            "<class 'pandas.core.frame.DataFrame'>\n",
            "Index: 55498 entries, 0 to 56042\n",
            "Data columns (total 14 columns):\n",
            " #   Column            Non-Null Count  Dtype  \n",
            "---  ------            --------------  -----  \n",
            " 0   order_id          55498 non-null  int64  \n",
            " 1   order_date        55498 non-null  object \n",
            " 2   order_year_month  55498 non-null  object \n",
            " 3   customer_name     55498 non-null  object \n",
            " 4   city              55498 non-null  object \n",
            " 5   state_province    55498 non-null  object \n",
            " 6   email             55498 non-null  object \n",
            " 7   order_type        55498 non-null  object \n",
            " 8   quantity          55498 non-null  float64\n",
            " 9   product_name      55498 non-null  object \n",
            " 10  product_line      55498 non-null  object \n",
            " 11  product_price     55498 non-null  float64\n",
            " 12  product_status    55498 non-null  object \n",
            " 13  revenue           55498 non-null  float64\n",
            "dtypes: float64(3), int64(1), object(10)\n",
            "memory usage: 6.4+ MB\n",
            "Number of NULL values after dropping rows:\n",
            "order_id            0\n",
            "order_date          0\n",
            "order_year_month    0\n",
            "customer_name       0\n",
            "city                0\n",
            "state_province      0\n",
            "email               0\n",
            "order_type          0\n",
            "quantity            0\n",
            "product_name        0\n",
            "product_line        0\n",
            "product_price       0\n",
            "product_status      0\n",
            "revenue             0\n",
            "dtype: int64\n"
          ]
        }
      ]
    },
    {
      "cell_type": "markdown",
      "metadata": {
        "id": "SgxPt7y3CreG"
      },
      "source": [
        "## Summarize Data\n",
        "\n",
        "➡️ Assignment Tasks\n",
        "- Display the average price per product line\n",
        "- Display the total revenue for all months"
      ]
    },
    {
      "cell_type": "code",
      "execution_count": null,
      "metadata": {
        "vscode": {
          "languageId": "plaintext"
        },
        "id": "OjV_vd_ZCreG"
      },
      "outputs": [],
      "source": [
        "#average price"
      ]
    },
    {
      "cell_type": "code",
      "execution_count": null,
      "metadata": {
        "vscode": {
          "languageId": "plaintext"
        },
        "id": "7DPNamY_CreH"
      },
      "outputs": [],
      "source": [
        "#total revenue"
      ]
    }
  ],
  "metadata": {
    "language_info": {
      "name": "python"
    },
    "colab": {
      "provenance": []
    },
    "kernelspec": {
      "name": "python3",
      "display_name": "Python 3"
    }
  },
  "nbformat": 4,
  "nbformat_minor": 0
}